{
  "nbformat": 4,
  "nbformat_minor": 0,
  "metadata": {
    "colab": {
      "provenance": []
    },
    "kernelspec": {
      "name": "python3",
      "display_name": "Python 3"
    },
    "language_info": {
      "name": "python"
    }
  },
  "cells": [
    {
      "cell_type": "markdown",
      "source": [
        "#LLM used for code generation on the playground: Gemma2-9b-it"
      ],
      "metadata": {
        "id": "dpIv_Gpk7mkf"
      }
    },
    {
      "cell_type": "code",
      "execution_count": 1,
      "metadata": {
        "id": "tL1TH4Fh3E9R"
      },
      "outputs": [],
      "source": [
        "import pandas as pd"
      ]
    },
    {
      "cell_type": "code",
      "source": [
        "df = pd.read_csv('household_power_consumption.csv',\n",
        "                 sep=';',\n",
        "                 parse_dates={'datetime': ['Date', 'Time']},\n",
        "                 infer_datetime_format=True,\n",
        "                 na_values=['?'],\n",
        "                 low_memory=False)"
      ],
      "metadata": {
        "colab": {
          "base_uri": "https://localhost:8080/"
        },
        "id": "FZkK0Bbj4t6n",
        "outputId": "d15a2c23-69a8-4326-af52-bad585087bbc"
      },
      "execution_count": 2,
      "outputs": [
        {
          "output_type": "stream",
          "name": "stderr",
          "text": [
            "/tmp/ipython-input-2-2428235778.py:1: FutureWarning: Support for nested sequences for 'parse_dates' in pd.read_csv is deprecated. Combine the desired columns with pd.to_datetime after parsing instead.\n",
            "  df = pd.read_csv('household_power_consumption.csv',\n",
            "/tmp/ipython-input-2-2428235778.py:1: FutureWarning: The argument 'infer_datetime_format' is deprecated and will be removed in a future version. A strict version of it is now the default, see https://pandas.pydata.org/pdeps/0004-consistent-to-datetime-parsing.html. You can safely remove this argument.\n",
            "  df = pd.read_csv('household_power_consumption.csv',\n",
            "/tmp/ipython-input-2-2428235778.py:1: UserWarning: Parsing dates in %d/%m/%Y %H:%M:%S format when dayfirst=False (the default) was specified. Pass `dayfirst=True` or specify a format to silence this warning.\n",
            "  df = pd.read_csv('household_power_consumption.csv',\n"
          ]
        }
      ]
    },
    {
      "cell_type": "code",
      "source": [
        "df = df.dropna()"
      ],
      "metadata": {
        "id": "-hh0PFDo43hk"
      },
      "execution_count": 3,
      "outputs": []
    },
    {
      "cell_type": "code",
      "source": [
        "df['Global_active_power'] = df['Global_active_power'].astype(float)\n",
        "df = df.set_index('datetime')"
      ],
      "metadata": {
        "id": "l9C9NZK_5emj"
      },
      "execution_count": 4,
      "outputs": []
    },
    {
      "cell_type": "code",
      "source": [
        "df.head(10)"
      ],
      "metadata": {
        "colab": {
          "base_uri": "https://localhost:8080/",
          "height": 394
        },
        "id": "611FFTbV5fo5",
        "outputId": "b48a4f33-ac57-4c21-d500-bda68af8b0c4"
      },
      "execution_count": 5,
      "outputs": [
        {
          "output_type": "execute_result",
          "data": {
            "text/plain": [
              "                     Global_active_power  Global_reactive_power  Voltage  \\\n",
              "datetime                                                                   \n",
              "2006-12-16 17:24:00                4.216                  0.418   234.84   \n",
              "2006-12-16 17:25:00                5.360                  0.436   233.63   \n",
              "2006-12-16 17:26:00                5.374                  0.498   233.29   \n",
              "2006-12-16 17:27:00                5.388                  0.502   233.74   \n",
              "2006-12-16 17:28:00                3.666                  0.528   235.68   \n",
              "2006-12-16 17:29:00                3.520                  0.522   235.02   \n",
              "2006-12-16 17:30:00                3.702                  0.520   235.09   \n",
              "2006-12-16 17:31:00                3.700                  0.520   235.22   \n",
              "2006-12-16 17:32:00                3.668                  0.510   233.99   \n",
              "2006-12-16 17:33:00                3.662                  0.510   233.86   \n",
              "\n",
              "                     Global_intensity  Sub_metering_1  Sub_metering_2  \\\n",
              "datetime                                                                \n",
              "2006-12-16 17:24:00              18.4             0.0             1.0   \n",
              "2006-12-16 17:25:00              23.0             0.0             1.0   \n",
              "2006-12-16 17:26:00              23.0             0.0             2.0   \n",
              "2006-12-16 17:27:00              23.0             0.0             1.0   \n",
              "2006-12-16 17:28:00              15.8             0.0             1.0   \n",
              "2006-12-16 17:29:00              15.0             0.0             2.0   \n",
              "2006-12-16 17:30:00              15.8             0.0             1.0   \n",
              "2006-12-16 17:31:00              15.8             0.0             1.0   \n",
              "2006-12-16 17:32:00              15.8             0.0             1.0   \n",
              "2006-12-16 17:33:00              15.8             0.0             2.0   \n",
              "\n",
              "                     Sub_metering_3  \n",
              "datetime                             \n",
              "2006-12-16 17:24:00            17.0  \n",
              "2006-12-16 17:25:00            16.0  \n",
              "2006-12-16 17:26:00            17.0  \n",
              "2006-12-16 17:27:00            17.0  \n",
              "2006-12-16 17:28:00            17.0  \n",
              "2006-12-16 17:29:00            17.0  \n",
              "2006-12-16 17:30:00            17.0  \n",
              "2006-12-16 17:31:00            17.0  \n",
              "2006-12-16 17:32:00            17.0  \n",
              "2006-12-16 17:33:00            16.0  "
            ],
            "text/html": [
              "\n",
              "  <div id=\"df-6838e6b5-a2f2-45fd-b66c-b4aa7a3accd2\" class=\"colab-df-container\">\n",
              "    <div>\n",
              "<style scoped>\n",
              "    .dataframe tbody tr th:only-of-type {\n",
              "        vertical-align: middle;\n",
              "    }\n",
              "\n",
              "    .dataframe tbody tr th {\n",
              "        vertical-align: top;\n",
              "    }\n",
              "\n",
              "    .dataframe thead th {\n",
              "        text-align: right;\n",
              "    }\n",
              "</style>\n",
              "<table border=\"1\" class=\"dataframe\">\n",
              "  <thead>\n",
              "    <tr style=\"text-align: right;\">\n",
              "      <th></th>\n",
              "      <th>Global_active_power</th>\n",
              "      <th>Global_reactive_power</th>\n",
              "      <th>Voltage</th>\n",
              "      <th>Global_intensity</th>\n",
              "      <th>Sub_metering_1</th>\n",
              "      <th>Sub_metering_2</th>\n",
              "      <th>Sub_metering_3</th>\n",
              "    </tr>\n",
              "    <tr>\n",
              "      <th>datetime</th>\n",
              "      <th></th>\n",
              "      <th></th>\n",
              "      <th></th>\n",
              "      <th></th>\n",
              "      <th></th>\n",
              "      <th></th>\n",
              "      <th></th>\n",
              "    </tr>\n",
              "  </thead>\n",
              "  <tbody>\n",
              "    <tr>\n",
              "      <th>2006-12-16 17:24:00</th>\n",
              "      <td>4.216</td>\n",
              "      <td>0.418</td>\n",
              "      <td>234.84</td>\n",
              "      <td>18.4</td>\n",
              "      <td>0.0</td>\n",
              "      <td>1.0</td>\n",
              "      <td>17.0</td>\n",
              "    </tr>\n",
              "    <tr>\n",
              "      <th>2006-12-16 17:25:00</th>\n",
              "      <td>5.360</td>\n",
              "      <td>0.436</td>\n",
              "      <td>233.63</td>\n",
              "      <td>23.0</td>\n",
              "      <td>0.0</td>\n",
              "      <td>1.0</td>\n",
              "      <td>16.0</td>\n",
              "    </tr>\n",
              "    <tr>\n",
              "      <th>2006-12-16 17:26:00</th>\n",
              "      <td>5.374</td>\n",
              "      <td>0.498</td>\n",
              "      <td>233.29</td>\n",
              "      <td>23.0</td>\n",
              "      <td>0.0</td>\n",
              "      <td>2.0</td>\n",
              "      <td>17.0</td>\n",
              "    </tr>\n",
              "    <tr>\n",
              "      <th>2006-12-16 17:27:00</th>\n",
              "      <td>5.388</td>\n",
              "      <td>0.502</td>\n",
              "      <td>233.74</td>\n",
              "      <td>23.0</td>\n",
              "      <td>0.0</td>\n",
              "      <td>1.0</td>\n",
              "      <td>17.0</td>\n",
              "    </tr>\n",
              "    <tr>\n",
              "      <th>2006-12-16 17:28:00</th>\n",
              "      <td>3.666</td>\n",
              "      <td>0.528</td>\n",
              "      <td>235.68</td>\n",
              "      <td>15.8</td>\n",
              "      <td>0.0</td>\n",
              "      <td>1.0</td>\n",
              "      <td>17.0</td>\n",
              "    </tr>\n",
              "    <tr>\n",
              "      <th>2006-12-16 17:29:00</th>\n",
              "      <td>3.520</td>\n",
              "      <td>0.522</td>\n",
              "      <td>235.02</td>\n",
              "      <td>15.0</td>\n",
              "      <td>0.0</td>\n",
              "      <td>2.0</td>\n",
              "      <td>17.0</td>\n",
              "    </tr>\n",
              "    <tr>\n",
              "      <th>2006-12-16 17:30:00</th>\n",
              "      <td>3.702</td>\n",
              "      <td>0.520</td>\n",
              "      <td>235.09</td>\n",
              "      <td>15.8</td>\n",
              "      <td>0.0</td>\n",
              "      <td>1.0</td>\n",
              "      <td>17.0</td>\n",
              "    </tr>\n",
              "    <tr>\n",
              "      <th>2006-12-16 17:31:00</th>\n",
              "      <td>3.700</td>\n",
              "      <td>0.520</td>\n",
              "      <td>235.22</td>\n",
              "      <td>15.8</td>\n",
              "      <td>0.0</td>\n",
              "      <td>1.0</td>\n",
              "      <td>17.0</td>\n",
              "    </tr>\n",
              "    <tr>\n",
              "      <th>2006-12-16 17:32:00</th>\n",
              "      <td>3.668</td>\n",
              "      <td>0.510</td>\n",
              "      <td>233.99</td>\n",
              "      <td>15.8</td>\n",
              "      <td>0.0</td>\n",
              "      <td>1.0</td>\n",
              "      <td>17.0</td>\n",
              "    </tr>\n",
              "    <tr>\n",
              "      <th>2006-12-16 17:33:00</th>\n",
              "      <td>3.662</td>\n",
              "      <td>0.510</td>\n",
              "      <td>233.86</td>\n",
              "      <td>15.8</td>\n",
              "      <td>0.0</td>\n",
              "      <td>2.0</td>\n",
              "      <td>16.0</td>\n",
              "    </tr>\n",
              "  </tbody>\n",
              "</table>\n",
              "</div>\n",
              "    <div class=\"colab-df-buttons\">\n",
              "\n",
              "  <div class=\"colab-df-container\">\n",
              "    <button class=\"colab-df-convert\" onclick=\"convertToInteractive('df-6838e6b5-a2f2-45fd-b66c-b4aa7a3accd2')\"\n",
              "            title=\"Convert this dataframe to an interactive table.\"\n",
              "            style=\"display:none;\">\n",
              "\n",
              "  <svg xmlns=\"http://www.w3.org/2000/svg\" height=\"24px\" viewBox=\"0 -960 960 960\">\n",
              "    <path d=\"M120-120v-720h720v720H120Zm60-500h600v-160H180v160Zm220 220h160v-160H400v160Zm0 220h160v-160H400v160ZM180-400h160v-160H180v160Zm440 0h160v-160H620v160ZM180-180h160v-160H180v160Zm440 0h160v-160H620v160Z\"/>\n",
              "  </svg>\n",
              "    </button>\n",
              "\n",
              "  <style>\n",
              "    .colab-df-container {\n",
              "      display:flex;\n",
              "      gap: 12px;\n",
              "    }\n",
              "\n",
              "    .colab-df-convert {\n",
              "      background-color: #E8F0FE;\n",
              "      border: none;\n",
              "      border-radius: 50%;\n",
              "      cursor: pointer;\n",
              "      display: none;\n",
              "      fill: #1967D2;\n",
              "      height: 32px;\n",
              "      padding: 0 0 0 0;\n",
              "      width: 32px;\n",
              "    }\n",
              "\n",
              "    .colab-df-convert:hover {\n",
              "      background-color: #E2EBFA;\n",
              "      box-shadow: 0px 1px 2px rgba(60, 64, 67, 0.3), 0px 1px 3px 1px rgba(60, 64, 67, 0.15);\n",
              "      fill: #174EA6;\n",
              "    }\n",
              "\n",
              "    .colab-df-buttons div {\n",
              "      margin-bottom: 4px;\n",
              "    }\n",
              "\n",
              "    [theme=dark] .colab-df-convert {\n",
              "      background-color: #3B4455;\n",
              "      fill: #D2E3FC;\n",
              "    }\n",
              "\n",
              "    [theme=dark] .colab-df-convert:hover {\n",
              "      background-color: #434B5C;\n",
              "      box-shadow: 0px 1px 3px 1px rgba(0, 0, 0, 0.15);\n",
              "      filter: drop-shadow(0px 1px 2px rgba(0, 0, 0, 0.3));\n",
              "      fill: #FFFFFF;\n",
              "    }\n",
              "  </style>\n",
              "\n",
              "    <script>\n",
              "      const buttonEl =\n",
              "        document.querySelector('#df-6838e6b5-a2f2-45fd-b66c-b4aa7a3accd2 button.colab-df-convert');\n",
              "      buttonEl.style.display =\n",
              "        google.colab.kernel.accessAllowed ? 'block' : 'none';\n",
              "\n",
              "      async function convertToInteractive(key) {\n",
              "        const element = document.querySelector('#df-6838e6b5-a2f2-45fd-b66c-b4aa7a3accd2');\n",
              "        const dataTable =\n",
              "          await google.colab.kernel.invokeFunction('convertToInteractive',\n",
              "                                                    [key], {});\n",
              "        if (!dataTable) return;\n",
              "\n",
              "        const docLinkHtml = 'Like what you see? Visit the ' +\n",
              "          '<a target=\"_blank\" href=https://colab.research.google.com/notebooks/data_table.ipynb>data table notebook</a>'\n",
              "          + ' to learn more about interactive tables.';\n",
              "        element.innerHTML = '';\n",
              "        dataTable['output_type'] = 'display_data';\n",
              "        await google.colab.output.renderOutput(dataTable, element);\n",
              "        const docLink = document.createElement('div');\n",
              "        docLink.innerHTML = docLinkHtml;\n",
              "        element.appendChild(docLink);\n",
              "      }\n",
              "    </script>\n",
              "  </div>\n",
              "\n",
              "\n",
              "    <div id=\"df-21278adf-6f5f-4f4d-9cde-c31e9a67c831\">\n",
              "      <button class=\"colab-df-quickchart\" onclick=\"quickchart('df-21278adf-6f5f-4f4d-9cde-c31e9a67c831')\"\n",
              "                title=\"Suggest charts\"\n",
              "                style=\"display:none;\">\n",
              "\n",
              "<svg xmlns=\"http://www.w3.org/2000/svg\" height=\"24px\"viewBox=\"0 0 24 24\"\n",
              "     width=\"24px\">\n",
              "    <g>\n",
              "        <path d=\"M19 3H5c-1.1 0-2 .9-2 2v14c0 1.1.9 2 2 2h14c1.1 0 2-.9 2-2V5c0-1.1-.9-2-2-2zM9 17H7v-7h2v7zm4 0h-2V7h2v10zm4 0h-2v-4h2v4z\"/>\n",
              "    </g>\n",
              "</svg>\n",
              "      </button>\n",
              "\n",
              "<style>\n",
              "  .colab-df-quickchart {\n",
              "      --bg-color: #E8F0FE;\n",
              "      --fill-color: #1967D2;\n",
              "      --hover-bg-color: #E2EBFA;\n",
              "      --hover-fill-color: #174EA6;\n",
              "      --disabled-fill-color: #AAA;\n",
              "      --disabled-bg-color: #DDD;\n",
              "  }\n",
              "\n",
              "  [theme=dark] .colab-df-quickchart {\n",
              "      --bg-color: #3B4455;\n",
              "      --fill-color: #D2E3FC;\n",
              "      --hover-bg-color: #434B5C;\n",
              "      --hover-fill-color: #FFFFFF;\n",
              "      --disabled-bg-color: #3B4455;\n",
              "      --disabled-fill-color: #666;\n",
              "  }\n",
              "\n",
              "  .colab-df-quickchart {\n",
              "    background-color: var(--bg-color);\n",
              "    border: none;\n",
              "    border-radius: 50%;\n",
              "    cursor: pointer;\n",
              "    display: none;\n",
              "    fill: var(--fill-color);\n",
              "    height: 32px;\n",
              "    padding: 0;\n",
              "    width: 32px;\n",
              "  }\n",
              "\n",
              "  .colab-df-quickchart:hover {\n",
              "    background-color: var(--hover-bg-color);\n",
              "    box-shadow: 0 1px 2px rgba(60, 64, 67, 0.3), 0 1px 3px 1px rgba(60, 64, 67, 0.15);\n",
              "    fill: var(--button-hover-fill-color);\n",
              "  }\n",
              "\n",
              "  .colab-df-quickchart-complete:disabled,\n",
              "  .colab-df-quickchart-complete:disabled:hover {\n",
              "    background-color: var(--disabled-bg-color);\n",
              "    fill: var(--disabled-fill-color);\n",
              "    box-shadow: none;\n",
              "  }\n",
              "\n",
              "  .colab-df-spinner {\n",
              "    border: 2px solid var(--fill-color);\n",
              "    border-color: transparent;\n",
              "    border-bottom-color: var(--fill-color);\n",
              "    animation:\n",
              "      spin 1s steps(1) infinite;\n",
              "  }\n",
              "\n",
              "  @keyframes spin {\n",
              "    0% {\n",
              "      border-color: transparent;\n",
              "      border-bottom-color: var(--fill-color);\n",
              "      border-left-color: var(--fill-color);\n",
              "    }\n",
              "    20% {\n",
              "      border-color: transparent;\n",
              "      border-left-color: var(--fill-color);\n",
              "      border-top-color: var(--fill-color);\n",
              "    }\n",
              "    30% {\n",
              "      border-color: transparent;\n",
              "      border-left-color: var(--fill-color);\n",
              "      border-top-color: var(--fill-color);\n",
              "      border-right-color: var(--fill-color);\n",
              "    }\n",
              "    40% {\n",
              "      border-color: transparent;\n",
              "      border-right-color: var(--fill-color);\n",
              "      border-top-color: var(--fill-color);\n",
              "    }\n",
              "    60% {\n",
              "      border-color: transparent;\n",
              "      border-right-color: var(--fill-color);\n",
              "    }\n",
              "    80% {\n",
              "      border-color: transparent;\n",
              "      border-right-color: var(--fill-color);\n",
              "      border-bottom-color: var(--fill-color);\n",
              "    }\n",
              "    90% {\n",
              "      border-color: transparent;\n",
              "      border-bottom-color: var(--fill-color);\n",
              "    }\n",
              "  }\n",
              "</style>\n",
              "\n",
              "      <script>\n",
              "        async function quickchart(key) {\n",
              "          const quickchartButtonEl =\n",
              "            document.querySelector('#' + key + ' button');\n",
              "          quickchartButtonEl.disabled = true;  // To prevent multiple clicks.\n",
              "          quickchartButtonEl.classList.add('colab-df-spinner');\n",
              "          try {\n",
              "            const charts = await google.colab.kernel.invokeFunction(\n",
              "                'suggestCharts', [key], {});\n",
              "          } catch (error) {\n",
              "            console.error('Error during call to suggestCharts:', error);\n",
              "          }\n",
              "          quickchartButtonEl.classList.remove('colab-df-spinner');\n",
              "          quickchartButtonEl.classList.add('colab-df-quickchart-complete');\n",
              "        }\n",
              "        (() => {\n",
              "          let quickchartButtonEl =\n",
              "            document.querySelector('#df-21278adf-6f5f-4f4d-9cde-c31e9a67c831 button');\n",
              "          quickchartButtonEl.style.display =\n",
              "            google.colab.kernel.accessAllowed ? 'block' : 'none';\n",
              "        })();\n",
              "      </script>\n",
              "    </div>\n",
              "\n",
              "    </div>\n",
              "  </div>\n"
            ],
            "application/vnd.google.colaboratory.intrinsic+json": {
              "type": "dataframe",
              "variable_name": "df"
            }
          },
          "metadata": {},
          "execution_count": 5
        }
      ]
    },
    {
      "cell_type": "code",
      "source": [
        "\"\"\"\n",
        "First prompt:\n",
        "You are a coding assistant that writes Python pandas code for analyzing time-series data.\n",
        "The dataset I am using is the UCI Household Power Consumption dataset.\n",
        "It has already been preprocessed and loaded into a pandas dataframe named `df`.\n",
        "The dataframe is indexed by a datetime index called `datetime`.\n",
        "Columns include:\n",
        "- 'Global_active_power' (float, in kilowatts)\n",
        "- 'Voltage'\n",
        "- 'Sub_metering_1', 'Sub_metering_2', 'Sub_metering_3'\n",
        "Write clean, correct, and well-commented Python code that can be executed in a Jupyter notebook.\n",
        "Do NOT include any text explanation, just return the code block.\n",
        "\"\"\""
      ],
      "metadata": {
        "id": "SY34Oapt_dxq"
      },
      "execution_count": null,
      "outputs": []
    },
    {
      "cell_type": "markdown",
      "source": [
        "##What was the average active power consumption in March 2007"
      ],
      "metadata": {
        "id": "WKBWyMS_75A2"
      }
    },
    {
      "cell_type": "code",
      "source": [
        "\"\"\"\n",
        "Prompt for model: Write pandas code to calculate the average of `Global_active_power` for all rows where the datetime index is in March 2007.\n",
        "The dataframe `df` is already indexed by datetime.\n",
        "Make sure to use bitwise operators (`&`) for combining the conditions, and wrap each condition in parentheses.\n",
        "Return only the code block, no explanation.\n",
        "\n",
        "\"\"\"\n",
        "df.loc[pd.to_datetime('2007-03-01'):pd.to_datetime('2007-03-31')]['Global_active_power'].mean()"
      ],
      "metadata": {
        "colab": {
          "base_uri": "https://localhost:8080/"
        },
        "id": "I84Jqqad7ZWe",
        "outputId": "f581c663-5ddf-4c41-e0fd-e84c5f3d9bb0"
      },
      "execution_count": 6,
      "outputs": [
        {
          "output_type": "execute_result",
          "data": {
            "text/plain": [
              "np.float64(1.2813209259259262)"
            ]
          },
          "metadata": {},
          "execution_count": 6
        }
      ]
    },
    {
      "cell_type": "code",
      "source": [
        "#to check\n",
        "print(df.loc[(df.index.month == 3) & (df.index.year == 2007), 'Global_active_power'])"
      ],
      "metadata": {
        "id": "4z7IjkZdD6VD",
        "colab": {
          "base_uri": "https://localhost:8080/"
        },
        "outputId": "4cf92296-b7ff-4082-9a1d-72121165fe53"
      },
      "execution_count": 7,
      "outputs": [
        {
          "output_type": "stream",
          "name": "stdout",
          "text": [
            "datetime\n",
            "2007-03-01 00:00:00    0.226\n",
            "2007-03-01 00:01:00    0.222\n",
            "2007-03-01 00:02:00    0.218\n",
            "2007-03-01 00:03:00    0.220\n",
            "2007-03-01 00:04:00    0.220\n",
            "                       ...  \n",
            "2007-03-31 23:55:00    3.466\n",
            "2007-03-31 23:56:00    3.438\n",
            "2007-03-31 23:57:00    3.324\n",
            "2007-03-31 23:58:00    3.308\n",
            "2007-03-31 23:59:00    3.726\n",
            "Name: Global_active_power, Length: 44639, dtype: float64\n"
          ]
        }
      ]
    },
    {
      "cell_type": "markdown",
      "source": [
        "##What hour of the day had the highest power usage on Christmas 2006?"
      ],
      "metadata": {
        "id": "UtMroBvWFq3Y"
      }
    },
    {
      "cell_type": "code",
      "source": [
        "'''\n",
        "Prompt for the model: Write pandas code to find the hour of the day with the highest total `Global_active_power` on December 25, 2006.\n",
        "Details to follow carefully:\n",
        "- The dataframe is called `df`, and it is already indexed by datetime (`datetime` is the index).\n",
        "- Filter `df` for rows where the datetime index date equals `datetime.date(2006,12,25)` (note: compare with a `datetime.date` object, not a string).\n",
        "- After filtering, resample the filtered data by hour (`'h'`) and sum `Global_active_power` for each hour.\n",
        "- Find and print the hour (timestamp) with the maximum total power usage, and also print the corresponding total power.\n",
        "- Use only pandas and the standard `datetime` module.\n",
        "- Also import the date from datetime module\n",
        "Return only the code block, no explanations\n",
        "'''\n",
        "from datetime import date\n",
        "\n",
        "df_dec25 = df[df.index.date == date(2006,12,25)]\n",
        "hourly_power = df_dec25.resample('h').sum()\n",
        "max_power_hour = hourly_power['Global_active_power'].idxmax()\n",
        "max_power = hourly_power['Global_active_power'].max()\n",
        "print(max_power_hour)\n",
        "print(max_power)"
      ],
      "metadata": {
        "colab": {
          "base_uri": "https://localhost:8080/"
        },
        "id": "MUymDa9pEe6l",
        "outputId": "298d21f9-1035-4a72-e60c-7468790dccb4"
      },
      "execution_count": null,
      "outputs": [
        {
          "output_type": "stream",
          "name": "stdout",
          "text": [
            "2006-12-25 22:00:00\n",
            "252.892\n"
          ]
        }
      ]
    },
    {
      "cell_type": "code",
      "source": [
        "#to check, here we can see that 22:00:00 the value of Global active power variable is highest value 252.892\n",
        "print(hourly_power)"
      ],
      "metadata": {
        "colab": {
          "base_uri": "https://localhost:8080/"
        },
        "id": "SVsqI4CtGZ2C",
        "outputId": "2122cc45-3fed-404c-a8cd-4d559a513ada"
      },
      "execution_count": null,
      "outputs": [
        {
          "output_type": "stream",
          "name": "stdout",
          "text": [
            "                     Global_active_power  Global_reactive_power   Voltage  \\\n",
            "datetime                                                                    \n",
            "2006-12-25 00:00:00               59.974                  7.708  14646.39   \n",
            "2006-12-25 01:00:00               72.406                  6.114  14680.47   \n",
            "2006-12-25 02:00:00               26.280                  7.398  14912.18   \n",
            "2006-12-25 03:00:00               35.398                  4.422  14896.91   \n",
            "2006-12-25 04:00:00               34.720                  3.280  14923.76   \n",
            "2006-12-25 05:00:00               37.206                  8.404  14885.68   \n",
            "2006-12-25 06:00:00               15.844                  4.148  14820.23   \n",
            "2006-12-25 07:00:00               40.608                  3.300  14603.53   \n",
            "2006-12-25 08:00:00              156.666                 11.328  14543.95   \n",
            "2006-12-25 09:00:00               89.608                 10.936  14651.26   \n",
            "2006-12-25 10:00:00              114.940                 15.926  14539.03   \n",
            "2006-12-25 11:00:00              182.676                  9.406  14500.83   \n",
            "2006-12-25 12:00:00              174.756                 19.420  14463.06   \n",
            "2006-12-25 13:00:00              133.496                 12.174  14537.11   \n",
            "2006-12-25 14:00:00              107.024                  5.304  14730.72   \n",
            "2006-12-25 15:00:00              104.420                  9.538  14750.14   \n",
            "2006-12-25 16:00:00              232.370                 27.228  14501.68   \n",
            "2006-12-25 17:00:00              124.308                 17.160  14359.74   \n",
            "2006-12-25 18:00:00              145.384                 12.412  14393.35   \n",
            "2006-12-25 19:00:00               97.770                  9.220  14479.73   \n",
            "2006-12-25 20:00:00              118.628                 13.322  14504.08   \n",
            "2006-12-25 21:00:00              230.212                  8.992  14313.36   \n",
            "2006-12-25 22:00:00              252.892                  4.174  14265.63   \n",
            "2006-12-25 23:00:00              155.534                  8.966  14593.08   \n",
            "\n",
            "                     Global_intensity  Sub_metering_1  Sub_metering_2  \\\n",
            "datetime                                                                \n",
            "2006-12-25 00:00:00             248.8             0.0             9.0   \n",
            "2006-12-25 01:00:00             295.8             0.0             0.0   \n",
            "2006-12-25 02:00:00             110.6             0.0            36.0   \n",
            "2006-12-25 03:00:00             144.0             0.0             0.0   \n",
            "2006-12-25 04:00:00             140.8             0.0             0.0   \n",
            "2006-12-25 05:00:00             150.6             0.0            37.0   \n",
            "2006-12-25 06:00:00              65.4             0.0             0.0   \n",
            "2006-12-25 07:00:00             170.0             0.0             9.0   \n",
            "2006-12-25 08:00:00             647.4             0.0            26.0   \n",
            "2006-12-25 09:00:00             367.6             0.0             0.0   \n",
            "2006-12-25 10:00:00             475.0             0.0            35.0   \n",
            "2006-12-25 11:00:00             761.8           581.0             0.0   \n",
            "2006-12-25 12:00:00             746.8          1359.0             0.0   \n",
            "2006-12-25 13:00:00             568.2          1122.0            34.0   \n",
            "2006-12-25 14:00:00             445.4           339.0             0.0   \n",
            "2006-12-25 15:00:00             430.6           360.0            21.0   \n",
            "2006-12-25 16:00:00             978.0          1645.0            14.0   \n",
            "2006-12-25 17:00:00             525.2           228.0             0.0   \n",
            "2006-12-25 18:00:00             608.2             0.0           273.0   \n",
            "2006-12-25 19:00:00             406.6             0.0           305.0   \n",
            "2006-12-25 20:00:00             493.0             0.0             3.0   \n",
            "2006-12-25 21:00:00             968.6           436.0           997.0   \n",
            "2006-12-25 22:00:00            1064.6           550.0            89.0   \n",
            "2006-12-25 23:00:00             637.2             0.0            74.0   \n",
            "\n",
            "                     Sub_metering_3  \n",
            "datetime                             \n",
            "2006-12-25 00:00:00           177.0  \n",
            "2006-12-25 01:00:00           693.0  \n",
            "2006-12-25 02:00:00             0.0  \n",
            "2006-12-25 03:00:00             0.0  \n",
            "2006-12-25 04:00:00             0.0  \n",
            "2006-12-25 05:00:00             0.0  \n",
            "2006-12-25 06:00:00             0.0  \n",
            "2006-12-25 07:00:00            20.0  \n",
            "2006-12-25 08:00:00           637.0  \n",
            "2006-12-25 09:00:00             0.0  \n",
            "2006-12-25 10:00:00             0.0  \n",
            "2006-12-25 11:00:00           704.0  \n",
            "2006-12-25 12:00:00           272.0  \n",
            "2006-12-25 13:00:00             0.0  \n",
            "2006-12-25 14:00:00           307.0  \n",
            "2006-12-25 15:00:00           575.0  \n",
            "2006-12-25 16:00:00             0.0  \n",
            "2006-12-25 17:00:00           262.0  \n",
            "2006-12-25 18:00:00           390.0  \n",
            "2006-12-25 19:00:00             0.0  \n",
            "2006-12-25 20:00:00           371.0  \n",
            "2006-12-25 21:00:00          1046.0  \n",
            "2006-12-25 22:00:00           341.0  \n",
            "2006-12-25 23:00:00             0.0  \n"
          ]
        }
      ]
    },
    {
      "cell_type": "markdown",
      "source": [
        "##Compare energy usage (Global_active_power) on weekdays vs weekends."
      ],
      "metadata": {
        "id": "20r23KLoGAzh"
      }
    },
    {
      "cell_type": "code",
      "source": [
        "'''\n",
        "Prompt to the LLM: Write pandas code to compare the average `Global_active_power` on weekdays versus weekends.\n",
        "\n",
        "Details to follow carefully:\n",
        "- The dataframe is named `df`, and it is already indexed by datetime (`datetime` is the index).\n",
        "- Add a new column called `day_of_week` that contains the day of the week for each row, where Monday=0 and Sunday=6.\n",
        "- Then add another column called `week_type` which contains either `'Weekday'` (if `day_of_week` is 0–4) or `'Weekend'` (if `day_of_week` is 5–6).\n",
        "- Group the dataframe by `week_type` and calculate the mean of `Global_active_power` for each group.\n",
        "- Print the resulting averages with appropriate labels.\n",
        "\n",
        "Return only the full, correct code block — no explanations or comments.\n",
        "'''\n",
        "df['day_of_week'] = df.index.weekday\n",
        "df['week_type'] = pd.cut(df['day_of_week'], bins=[0, 4, 6], labels=['Weekday', 'Weekend'])\n",
        "average_power = df.groupby('week_type')['Global_active_power'].mean()\n",
        "print(average_power)"
      ],
      "metadata": {
        "colab": {
          "base_uri": "https://localhost:8080/"
        },
        "id": "3EpROJsGGDU6",
        "outputId": "ea0fe25f-876c-42e4-e0b3-6f927dbb7705"
      },
      "execution_count": null,
      "outputs": [
        {
          "output_type": "stream",
          "name": "stdout",
          "text": [
            "week_type\n",
            "Weekday    1.060306\n",
            "Weekend    1.275371\n",
            "Name: Global_active_power, dtype: float64\n"
          ]
        }
      ]
    },
    {
      "cell_type": "code",
      "source": [
        "df.head(10)"
      ],
      "metadata": {
        "colab": {
          "base_uri": "https://localhost:8080/",
          "height": 394
        },
        "id": "Go6hPS3JIwIS",
        "outputId": "7030ea0d-9d79-4f9c-f8e2-739cba7bbba8"
      },
      "execution_count": null,
      "outputs": [
        {
          "output_type": "execute_result",
          "data": {
            "text/plain": [
              "                     Global_active_power  Global_reactive_power  Voltage  \\\n",
              "datetime                                                                   \n",
              "2006-12-16 17:24:00                4.216                  0.418   234.84   \n",
              "2006-12-16 17:25:00                5.360                  0.436   233.63   \n",
              "2006-12-16 17:26:00                5.374                  0.498   233.29   \n",
              "2006-12-16 17:27:00                5.388                  0.502   233.74   \n",
              "2006-12-16 17:28:00                3.666                  0.528   235.68   \n",
              "2006-12-16 17:29:00                3.520                  0.522   235.02   \n",
              "2006-12-16 17:30:00                3.702                  0.520   235.09   \n",
              "2006-12-16 17:31:00                3.700                  0.520   235.22   \n",
              "2006-12-16 17:32:00                3.668                  0.510   233.99   \n",
              "2006-12-16 17:33:00                3.662                  0.510   233.86   \n",
              "\n",
              "                     Global_intensity  Sub_metering_1  Sub_metering_2  \\\n",
              "datetime                                                                \n",
              "2006-12-16 17:24:00              18.4             0.0             1.0   \n",
              "2006-12-16 17:25:00              23.0             0.0             1.0   \n",
              "2006-12-16 17:26:00              23.0             0.0             2.0   \n",
              "2006-12-16 17:27:00              23.0             0.0             1.0   \n",
              "2006-12-16 17:28:00              15.8             0.0             1.0   \n",
              "2006-12-16 17:29:00              15.0             0.0             2.0   \n",
              "2006-12-16 17:30:00              15.8             0.0             1.0   \n",
              "2006-12-16 17:31:00              15.8             0.0             1.0   \n",
              "2006-12-16 17:32:00              15.8             0.0             1.0   \n",
              "2006-12-16 17:33:00              15.8             0.0             2.0   \n",
              "\n",
              "                     Sub_metering_3  day_of_week week_type  \n",
              "datetime                                                    \n",
              "2006-12-16 17:24:00            17.0            5   Weekend  \n",
              "2006-12-16 17:25:00            16.0            5   Weekend  \n",
              "2006-12-16 17:26:00            17.0            5   Weekend  \n",
              "2006-12-16 17:27:00            17.0            5   Weekend  \n",
              "2006-12-16 17:28:00            17.0            5   Weekend  \n",
              "2006-12-16 17:29:00            17.0            5   Weekend  \n",
              "2006-12-16 17:30:00            17.0            5   Weekend  \n",
              "2006-12-16 17:31:00            17.0            5   Weekend  \n",
              "2006-12-16 17:32:00            17.0            5   Weekend  \n",
              "2006-12-16 17:33:00            16.0            5   Weekend  "
            ],
            "text/html": [
              "\n",
              "  <div id=\"df-b9761e7b-e3cc-4e0f-b137-881e38075964\" class=\"colab-df-container\">\n",
              "    <div>\n",
              "<style scoped>\n",
              "    .dataframe tbody tr th:only-of-type {\n",
              "        vertical-align: middle;\n",
              "    }\n",
              "\n",
              "    .dataframe tbody tr th {\n",
              "        vertical-align: top;\n",
              "    }\n",
              "\n",
              "    .dataframe thead th {\n",
              "        text-align: right;\n",
              "    }\n",
              "</style>\n",
              "<table border=\"1\" class=\"dataframe\">\n",
              "  <thead>\n",
              "    <tr style=\"text-align: right;\">\n",
              "      <th></th>\n",
              "      <th>Global_active_power</th>\n",
              "      <th>Global_reactive_power</th>\n",
              "      <th>Voltage</th>\n",
              "      <th>Global_intensity</th>\n",
              "      <th>Sub_metering_1</th>\n",
              "      <th>Sub_metering_2</th>\n",
              "      <th>Sub_metering_3</th>\n",
              "      <th>day_of_week</th>\n",
              "      <th>week_type</th>\n",
              "    </tr>\n",
              "    <tr>\n",
              "      <th>datetime</th>\n",
              "      <th></th>\n",
              "      <th></th>\n",
              "      <th></th>\n",
              "      <th></th>\n",
              "      <th></th>\n",
              "      <th></th>\n",
              "      <th></th>\n",
              "      <th></th>\n",
              "      <th></th>\n",
              "    </tr>\n",
              "  </thead>\n",
              "  <tbody>\n",
              "    <tr>\n",
              "      <th>2006-12-16 17:24:00</th>\n",
              "      <td>4.216</td>\n",
              "      <td>0.418</td>\n",
              "      <td>234.84</td>\n",
              "      <td>18.4</td>\n",
              "      <td>0.0</td>\n",
              "      <td>1.0</td>\n",
              "      <td>17.0</td>\n",
              "      <td>5</td>\n",
              "      <td>Weekend</td>\n",
              "    </tr>\n",
              "    <tr>\n",
              "      <th>2006-12-16 17:25:00</th>\n",
              "      <td>5.360</td>\n",
              "      <td>0.436</td>\n",
              "      <td>233.63</td>\n",
              "      <td>23.0</td>\n",
              "      <td>0.0</td>\n",
              "      <td>1.0</td>\n",
              "      <td>16.0</td>\n",
              "      <td>5</td>\n",
              "      <td>Weekend</td>\n",
              "    </tr>\n",
              "    <tr>\n",
              "      <th>2006-12-16 17:26:00</th>\n",
              "      <td>5.374</td>\n",
              "      <td>0.498</td>\n",
              "      <td>233.29</td>\n",
              "      <td>23.0</td>\n",
              "      <td>0.0</td>\n",
              "      <td>2.0</td>\n",
              "      <td>17.0</td>\n",
              "      <td>5</td>\n",
              "      <td>Weekend</td>\n",
              "    </tr>\n",
              "    <tr>\n",
              "      <th>2006-12-16 17:27:00</th>\n",
              "      <td>5.388</td>\n",
              "      <td>0.502</td>\n",
              "      <td>233.74</td>\n",
              "      <td>23.0</td>\n",
              "      <td>0.0</td>\n",
              "      <td>1.0</td>\n",
              "      <td>17.0</td>\n",
              "      <td>5</td>\n",
              "      <td>Weekend</td>\n",
              "    </tr>\n",
              "    <tr>\n",
              "      <th>2006-12-16 17:28:00</th>\n",
              "      <td>3.666</td>\n",
              "      <td>0.528</td>\n",
              "      <td>235.68</td>\n",
              "      <td>15.8</td>\n",
              "      <td>0.0</td>\n",
              "      <td>1.0</td>\n",
              "      <td>17.0</td>\n",
              "      <td>5</td>\n",
              "      <td>Weekend</td>\n",
              "    </tr>\n",
              "    <tr>\n",
              "      <th>2006-12-16 17:29:00</th>\n",
              "      <td>3.520</td>\n",
              "      <td>0.522</td>\n",
              "      <td>235.02</td>\n",
              "      <td>15.0</td>\n",
              "      <td>0.0</td>\n",
              "      <td>2.0</td>\n",
              "      <td>17.0</td>\n",
              "      <td>5</td>\n",
              "      <td>Weekend</td>\n",
              "    </tr>\n",
              "    <tr>\n",
              "      <th>2006-12-16 17:30:00</th>\n",
              "      <td>3.702</td>\n",
              "      <td>0.520</td>\n",
              "      <td>235.09</td>\n",
              "      <td>15.8</td>\n",
              "      <td>0.0</td>\n",
              "      <td>1.0</td>\n",
              "      <td>17.0</td>\n",
              "      <td>5</td>\n",
              "      <td>Weekend</td>\n",
              "    </tr>\n",
              "    <tr>\n",
              "      <th>2006-12-16 17:31:00</th>\n",
              "      <td>3.700</td>\n",
              "      <td>0.520</td>\n",
              "      <td>235.22</td>\n",
              "      <td>15.8</td>\n",
              "      <td>0.0</td>\n",
              "      <td>1.0</td>\n",
              "      <td>17.0</td>\n",
              "      <td>5</td>\n",
              "      <td>Weekend</td>\n",
              "    </tr>\n",
              "    <tr>\n",
              "      <th>2006-12-16 17:32:00</th>\n",
              "      <td>3.668</td>\n",
              "      <td>0.510</td>\n",
              "      <td>233.99</td>\n",
              "      <td>15.8</td>\n",
              "      <td>0.0</td>\n",
              "      <td>1.0</td>\n",
              "      <td>17.0</td>\n",
              "      <td>5</td>\n",
              "      <td>Weekend</td>\n",
              "    </tr>\n",
              "    <tr>\n",
              "      <th>2006-12-16 17:33:00</th>\n",
              "      <td>3.662</td>\n",
              "      <td>0.510</td>\n",
              "      <td>233.86</td>\n",
              "      <td>15.8</td>\n",
              "      <td>0.0</td>\n",
              "      <td>2.0</td>\n",
              "      <td>16.0</td>\n",
              "      <td>5</td>\n",
              "      <td>Weekend</td>\n",
              "    </tr>\n",
              "  </tbody>\n",
              "</table>\n",
              "</div>\n",
              "    <div class=\"colab-df-buttons\">\n",
              "\n",
              "  <div class=\"colab-df-container\">\n",
              "    <button class=\"colab-df-convert\" onclick=\"convertToInteractive('df-b9761e7b-e3cc-4e0f-b137-881e38075964')\"\n",
              "            title=\"Convert this dataframe to an interactive table.\"\n",
              "            style=\"display:none;\">\n",
              "\n",
              "  <svg xmlns=\"http://www.w3.org/2000/svg\" height=\"24px\" viewBox=\"0 -960 960 960\">\n",
              "    <path d=\"M120-120v-720h720v720H120Zm60-500h600v-160H180v160Zm220 220h160v-160H400v160Zm0 220h160v-160H400v160ZM180-400h160v-160H180v160Zm440 0h160v-160H620v160ZM180-180h160v-160H180v160Zm440 0h160v-160H620v160Z\"/>\n",
              "  </svg>\n",
              "    </button>\n",
              "\n",
              "  <style>\n",
              "    .colab-df-container {\n",
              "      display:flex;\n",
              "      gap: 12px;\n",
              "    }\n",
              "\n",
              "    .colab-df-convert {\n",
              "      background-color: #E8F0FE;\n",
              "      border: none;\n",
              "      border-radius: 50%;\n",
              "      cursor: pointer;\n",
              "      display: none;\n",
              "      fill: #1967D2;\n",
              "      height: 32px;\n",
              "      padding: 0 0 0 0;\n",
              "      width: 32px;\n",
              "    }\n",
              "\n",
              "    .colab-df-convert:hover {\n",
              "      background-color: #E2EBFA;\n",
              "      box-shadow: 0px 1px 2px rgba(60, 64, 67, 0.3), 0px 1px 3px 1px rgba(60, 64, 67, 0.15);\n",
              "      fill: #174EA6;\n",
              "    }\n",
              "\n",
              "    .colab-df-buttons div {\n",
              "      margin-bottom: 4px;\n",
              "    }\n",
              "\n",
              "    [theme=dark] .colab-df-convert {\n",
              "      background-color: #3B4455;\n",
              "      fill: #D2E3FC;\n",
              "    }\n",
              "\n",
              "    [theme=dark] .colab-df-convert:hover {\n",
              "      background-color: #434B5C;\n",
              "      box-shadow: 0px 1px 3px 1px rgba(0, 0, 0, 0.15);\n",
              "      filter: drop-shadow(0px 1px 2px rgba(0, 0, 0, 0.3));\n",
              "      fill: #FFFFFF;\n",
              "    }\n",
              "  </style>\n",
              "\n",
              "    <script>\n",
              "      const buttonEl =\n",
              "        document.querySelector('#df-b9761e7b-e3cc-4e0f-b137-881e38075964 button.colab-df-convert');\n",
              "      buttonEl.style.display =\n",
              "        google.colab.kernel.accessAllowed ? 'block' : 'none';\n",
              "\n",
              "      async function convertToInteractive(key) {\n",
              "        const element = document.querySelector('#df-b9761e7b-e3cc-4e0f-b137-881e38075964');\n",
              "        const dataTable =\n",
              "          await google.colab.kernel.invokeFunction('convertToInteractive',\n",
              "                                                    [key], {});\n",
              "        if (!dataTable) return;\n",
              "\n",
              "        const docLinkHtml = 'Like what you see? Visit the ' +\n",
              "          '<a target=\"_blank\" href=https://colab.research.google.com/notebooks/data_table.ipynb>data table notebook</a>'\n",
              "          + ' to learn more about interactive tables.';\n",
              "        element.innerHTML = '';\n",
              "        dataTable['output_type'] = 'display_data';\n",
              "        await google.colab.output.renderOutput(dataTable, element);\n",
              "        const docLink = document.createElement('div');\n",
              "        docLink.innerHTML = docLinkHtml;\n",
              "        element.appendChild(docLink);\n",
              "      }\n",
              "    </script>\n",
              "  </div>\n",
              "\n",
              "\n",
              "    <div id=\"df-0d36b86c-1257-47e4-8390-aff469305f63\">\n",
              "      <button class=\"colab-df-quickchart\" onclick=\"quickchart('df-0d36b86c-1257-47e4-8390-aff469305f63')\"\n",
              "                title=\"Suggest charts\"\n",
              "                style=\"display:none;\">\n",
              "\n",
              "<svg xmlns=\"http://www.w3.org/2000/svg\" height=\"24px\"viewBox=\"0 0 24 24\"\n",
              "     width=\"24px\">\n",
              "    <g>\n",
              "        <path d=\"M19 3H5c-1.1 0-2 .9-2 2v14c0 1.1.9 2 2 2h14c1.1 0 2-.9 2-2V5c0-1.1-.9-2-2-2zM9 17H7v-7h2v7zm4 0h-2V7h2v10zm4 0h-2v-4h2v4z\"/>\n",
              "    </g>\n",
              "</svg>\n",
              "      </button>\n",
              "\n",
              "<style>\n",
              "  .colab-df-quickchart {\n",
              "      --bg-color: #E8F0FE;\n",
              "      --fill-color: #1967D2;\n",
              "      --hover-bg-color: #E2EBFA;\n",
              "      --hover-fill-color: #174EA6;\n",
              "      --disabled-fill-color: #AAA;\n",
              "      --disabled-bg-color: #DDD;\n",
              "  }\n",
              "\n",
              "  [theme=dark] .colab-df-quickchart {\n",
              "      --bg-color: #3B4455;\n",
              "      --fill-color: #D2E3FC;\n",
              "      --hover-bg-color: #434B5C;\n",
              "      --hover-fill-color: #FFFFFF;\n",
              "      --disabled-bg-color: #3B4455;\n",
              "      --disabled-fill-color: #666;\n",
              "  }\n",
              "\n",
              "  .colab-df-quickchart {\n",
              "    background-color: var(--bg-color);\n",
              "    border: none;\n",
              "    border-radius: 50%;\n",
              "    cursor: pointer;\n",
              "    display: none;\n",
              "    fill: var(--fill-color);\n",
              "    height: 32px;\n",
              "    padding: 0;\n",
              "    width: 32px;\n",
              "  }\n",
              "\n",
              "  .colab-df-quickchart:hover {\n",
              "    background-color: var(--hover-bg-color);\n",
              "    box-shadow: 0 1px 2px rgba(60, 64, 67, 0.3), 0 1px 3px 1px rgba(60, 64, 67, 0.15);\n",
              "    fill: var(--button-hover-fill-color);\n",
              "  }\n",
              "\n",
              "  .colab-df-quickchart-complete:disabled,\n",
              "  .colab-df-quickchart-complete:disabled:hover {\n",
              "    background-color: var(--disabled-bg-color);\n",
              "    fill: var(--disabled-fill-color);\n",
              "    box-shadow: none;\n",
              "  }\n",
              "\n",
              "  .colab-df-spinner {\n",
              "    border: 2px solid var(--fill-color);\n",
              "    border-color: transparent;\n",
              "    border-bottom-color: var(--fill-color);\n",
              "    animation:\n",
              "      spin 1s steps(1) infinite;\n",
              "  }\n",
              "\n",
              "  @keyframes spin {\n",
              "    0% {\n",
              "      border-color: transparent;\n",
              "      border-bottom-color: var(--fill-color);\n",
              "      border-left-color: var(--fill-color);\n",
              "    }\n",
              "    20% {\n",
              "      border-color: transparent;\n",
              "      border-left-color: var(--fill-color);\n",
              "      border-top-color: var(--fill-color);\n",
              "    }\n",
              "    30% {\n",
              "      border-color: transparent;\n",
              "      border-left-color: var(--fill-color);\n",
              "      border-top-color: var(--fill-color);\n",
              "      border-right-color: var(--fill-color);\n",
              "    }\n",
              "    40% {\n",
              "      border-color: transparent;\n",
              "      border-right-color: var(--fill-color);\n",
              "      border-top-color: var(--fill-color);\n",
              "    }\n",
              "    60% {\n",
              "      border-color: transparent;\n",
              "      border-right-color: var(--fill-color);\n",
              "    }\n",
              "    80% {\n",
              "      border-color: transparent;\n",
              "      border-right-color: var(--fill-color);\n",
              "      border-bottom-color: var(--fill-color);\n",
              "    }\n",
              "    90% {\n",
              "      border-color: transparent;\n",
              "      border-bottom-color: var(--fill-color);\n",
              "    }\n",
              "  }\n",
              "</style>\n",
              "\n",
              "      <script>\n",
              "        async function quickchart(key) {\n",
              "          const quickchartButtonEl =\n",
              "            document.querySelector('#' + key + ' button');\n",
              "          quickchartButtonEl.disabled = true;  // To prevent multiple clicks.\n",
              "          quickchartButtonEl.classList.add('colab-df-spinner');\n",
              "          try {\n",
              "            const charts = await google.colab.kernel.invokeFunction(\n",
              "                'suggestCharts', [key], {});\n",
              "          } catch (error) {\n",
              "            console.error('Error during call to suggestCharts:', error);\n",
              "          }\n",
              "          quickchartButtonEl.classList.remove('colab-df-spinner');\n",
              "          quickchartButtonEl.classList.add('colab-df-quickchart-complete');\n",
              "        }\n",
              "        (() => {\n",
              "          let quickchartButtonEl =\n",
              "            document.querySelector('#df-0d36b86c-1257-47e4-8390-aff469305f63 button');\n",
              "          quickchartButtonEl.style.display =\n",
              "            google.colab.kernel.accessAllowed ? 'block' : 'none';\n",
              "        })();\n",
              "      </script>\n",
              "    </div>\n",
              "\n",
              "    </div>\n",
              "  </div>\n"
            ],
            "application/vnd.google.colaboratory.intrinsic+json": {
              "type": "dataframe",
              "variable_name": "df"
            }
          },
          "metadata": {},
          "execution_count": 27
        }
      ]
    },
    {
      "cell_type": "code",
      "source": [
        "#to check\n",
        "print(df['week_type'].unique())"
      ],
      "metadata": {
        "colab": {
          "base_uri": "https://localhost:8080/"
        },
        "id": "4Q5zxit1H4qT",
        "outputId": "887488c5-5f66-4a7c-b817-058a5e17c757"
      },
      "execution_count": null,
      "outputs": [
        {
          "output_type": "stream",
          "name": "stdout",
          "text": [
            "['Weekend', NaN, 'Weekday']\n",
            "Categories (2, object): ['Weekday' < 'Weekend']\n"
          ]
        }
      ]
    },
    {
      "cell_type": "code",
      "source": [
        "weekdays_df = df[df['week_type'] == 'Weekday']\n",
        "print(weekdays_df)"
      ],
      "metadata": {
        "colab": {
          "base_uri": "https://localhost:8080/"
        },
        "id": "p_Ijfi3GJdDl",
        "outputId": "f4d56138-0145-4fbe-9e52-922249539e99"
      },
      "execution_count": null,
      "outputs": [
        {
          "output_type": "stream",
          "name": "stdout",
          "text": [
            "                     Global_active_power  Global_reactive_power  Voltage  \\\n",
            "datetime                                                                   \n",
            "2006-12-19 00:00:00                0.414                  0.242   241.19   \n",
            "2006-12-19 00:01:00                0.504                  0.326   241.50   \n",
            "2006-12-19 00:02:00                0.408                  0.234   241.77   \n",
            "2006-12-19 00:03:00                0.416                  0.224   242.35   \n",
            "2006-12-19 00:04:00                0.394                  0.214   241.84   \n",
            "...                                  ...                    ...      ...   \n",
            "2010-02-12 23:55:00                0.250                  0.054   246.47   \n",
            "2010-02-12 23:56:00                0.250                  0.054   247.12   \n",
            "2010-02-12 23:57:00                0.248                  0.054   246.35   \n",
            "2010-02-12 23:58:00                0.250                  0.054   247.28   \n",
            "2010-02-12 23:59:00                0.250                  0.054   246.78   \n",
            "\n",
            "                     Global_intensity  Sub_metering_1  Sub_metering_2  \\\n",
            "datetime                                                                \n",
            "2006-12-19 00:00:00               2.0             0.0             1.0   \n",
            "2006-12-19 00:01:00               2.6             0.0             2.0   \n",
            "2006-12-19 00:02:00               2.0             0.0             2.0   \n",
            "2006-12-19 00:03:00               2.0             0.0             1.0   \n",
            "2006-12-19 00:04:00               1.8             0.0             2.0   \n",
            "...                               ...             ...             ...   \n",
            "2010-02-12 23:55:00               1.0             0.0             0.0   \n",
            "2010-02-12 23:56:00               1.0             0.0             0.0   \n",
            "2010-02-12 23:57:00               1.0             0.0             0.0   \n",
            "2010-02-12 23:58:00               1.0             0.0             0.0   \n",
            "2010-02-12 23:59:00               1.0             0.0             0.0   \n",
            "\n",
            "                     Sub_metering_3  day_of_week week_type  \n",
            "datetime                                                    \n",
            "2006-12-19 00:00:00             0.0            1   Weekday  \n",
            "2006-12-19 00:01:00             0.0            1   Weekday  \n",
            "2006-12-19 00:02:00             0.0            1   Weekday  \n",
            "2006-12-19 00:03:00             0.0            1   Weekday  \n",
            "2006-12-19 00:04:00             0.0            1   Weekday  \n",
            "...                             ...          ...       ...  \n",
            "2010-02-12 23:55:00             1.0            4   Weekday  \n",
            "2010-02-12 23:56:00             0.0            4   Weekday  \n",
            "2010-02-12 23:57:00             1.0            4   Weekday  \n",
            "2010-02-12 23:58:00             1.0            4   Weekday  \n",
            "2010-02-12 23:59:00             0.0            4   Weekday  \n",
            "\n",
            "[946231 rows x 9 columns]\n"
          ]
        }
      ]
    },
    {
      "cell_type": "code",
      "source": [
        "weekdays_df = df[df['week_type'] == 'Weekend']\n",
        "print(weekdays_df)"
      ],
      "metadata": {
        "colab": {
          "base_uri": "https://localhost:8080/"
        },
        "id": "OnNVytQFH9jX",
        "outputId": "0b46c53d-fa41-4274-fa4f-b5718d8125af"
      },
      "execution_count": null,
      "outputs": [
        {
          "output_type": "stream",
          "name": "stdout",
          "text": [
            "                     Global_active_power  Global_reactive_power  Voltage  \\\n",
            "datetime                                                                   \n",
            "2006-12-16 17:24:00                4.216                  0.418   234.84   \n",
            "2006-12-16 17:25:00                5.360                  0.436   233.63   \n",
            "2006-12-16 17:26:00                5.374                  0.498   233.29   \n",
            "2006-12-16 17:27:00                5.388                  0.502   233.74   \n",
            "2006-12-16 17:28:00                3.666                  0.528   235.68   \n",
            "...                                  ...                    ...      ...   \n",
            "2010-02-14 11:03:00                1.458                  0.076   241.57   \n",
            "2010-02-14 11:04:00                1.456                  0.076   241.74   \n",
            "2010-02-14 11:05:00                1.448                  0.078   241.29   \n",
            "2010-02-14 11:06:00                1.442                  0.078   240.45   \n",
            "2010-02-14 11:07:00                1.468                  0.076   242.40   \n",
            "\n",
            "                     Global_intensity  Sub_metering_1  Sub_metering_2  \\\n",
            "datetime                                                                \n",
            "2006-12-16 17:24:00              18.4             0.0             1.0   \n",
            "2006-12-16 17:25:00              23.0             0.0             1.0   \n",
            "2006-12-16 17:26:00              23.0             0.0             2.0   \n",
            "2006-12-16 17:27:00              23.0             0.0             1.0   \n",
            "2006-12-16 17:28:00              15.8             0.0             1.0   \n",
            "...                               ...             ...             ...   \n",
            "2010-02-14 11:03:00               6.0             0.0             0.0   \n",
            "2010-02-14 11:04:00               6.0             0.0             0.0   \n",
            "2010-02-14 11:05:00               6.0             0.0             0.0   \n",
            "2010-02-14 11:06:00               6.0             0.0             0.0   \n",
            "2010-02-14 11:07:00               6.0             0.0             0.0   \n",
            "\n",
            "                     Sub_metering_3  day_of_week week_type  \n",
            "datetime                                                    \n",
            "2006-12-16 17:24:00            17.0            5   Weekend  \n",
            "2006-12-16 17:25:00            16.0            5   Weekend  \n",
            "2006-12-16 17:26:00            17.0            5   Weekend  \n",
            "2006-12-16 17:27:00            17.0            5   Weekend  \n",
            "2006-12-16 17:28:00            17.0            5   Weekend  \n",
            "...                             ...          ...       ...  \n",
            "2010-02-14 11:03:00            18.0            6   Weekend  \n",
            "2010-02-14 11:04:00            19.0            6   Weekend  \n",
            "2010-02-14 11:05:00            18.0            6   Weekend  \n",
            "2010-02-14 11:06:00            19.0            6   Weekend  \n",
            "2010-02-14 11:07:00            18.0            6   Weekend  \n",
            "\n",
            "[470283 rows x 9 columns]\n"
          ]
        }
      ]
    },
    {
      "cell_type": "code",
      "source": [
        "# Hence we can see The week_type column correctly classifies dates into Weekday and Weekend (validated using df['week_type'].unique() and sample rows).\n",
        "# The calculated averages are approximately  1.060306 kW for Weekdays and 1.275371 kW for Weekends"
      ],
      "metadata": {
        "id": "TTBXY1t6Js9Z"
      },
      "execution_count": null,
      "outputs": []
    },
    {
      "cell_type": "markdown",
      "source": [
        "##Find days where energy consumption exceeded 5 kWh."
      ],
      "metadata": {
        "id": "pD99EelnKhOa"
      }
    },
    {
      "cell_type": "code",
      "source": [
        "'''\n",
        "Prompt given to the LLM: Write pandas code to find all dates where the total daily `Global_active_power` exceeded 5 kilowatt-hours.\n",
        "\n",
        "Details:\n",
        "- The dataframe is named `df` and is already indexed by datetime (`datetime` is the index).\n",
        "- Resample `Global_active_power` by day (`'D'`) and sum up the daily totals.\n",
        "- Store the resulting daily totals in a variable named `daily_usage`.\n",
        "- Then create a new variable named `high_usage_days` which contains only the dates and total power where the daily total exceeds 5.\n",
        "- Finally, print `high_usage_days`.\n",
        "\n",
        "Return only the full, correct code block — no explanations.\n",
        "'''\n",
        "\n",
        "daily_usage = df['Global_active_power'].resample('D').sum()\n",
        "high_usage_days = daily_usage[daily_usage > 5]\n",
        "print(high_usage_days)"
      ],
      "metadata": {
        "colab": {
          "base_uri": "https://localhost:8080/"
        },
        "id": "VgBymoCzKljk",
        "outputId": "656d3f3b-45f2-4034-b5a1-2fb9011f1841"
      },
      "execution_count": null,
      "outputs": [
        {
          "output_type": "stream",
          "name": "stdout",
          "text": [
            "datetime\n",
            "2006-12-16    1209.176\n",
            "2006-12-17    3390.460\n",
            "2006-12-18    2203.826\n",
            "2006-12-19    1666.194\n",
            "2006-12-20    2225.748\n",
            "                ...   \n",
            "2010-02-10    1944.542\n",
            "2010-02-11    1369.768\n",
            "2010-02-12    1892.998\n",
            "2010-02-13    2351.556\n",
            "2010-02-14     434.402\n",
            "Name: Global_active_power, Length: 1154, dtype: float64\n"
          ]
        }
      ]
    },
    {
      "cell_type": "code",
      "source": [
        "#to check: Verified that all dates listed in high_usage_days have total daily Global_active_power ≥ 5 kWh, with minimum value confirmed 14.218\n",
        "print(high_usage_days.describe())"
      ],
      "metadata": {
        "colab": {
          "base_uri": "https://localhost:8080/"
        },
        "id": "X_lW1ZbvLMv4",
        "outputId": "edf493d6-8594-42ff-d04b-53958ef0edfa"
      },
      "execution_count": null,
      "outputs": [
        {
          "output_type": "stream",
          "name": "stdout",
          "text": [
            "count    1154.000000\n",
            "mean     1594.119527\n",
            "std       633.482505\n",
            "min        14.218000\n",
            "25%      1176.892000\n",
            "50%      1575.725000\n",
            "75%      1959.245500\n",
            "max      4773.386000\n",
            "Name: Global_active_power, dtype: float64\n"
          ]
        }
      ]
    },
    {
      "cell_type": "code",
      "source": [
        "print(f\"Minimum value in high_usage_days: {high_usage_days.min()}\")"
      ],
      "metadata": {
        "colab": {
          "base_uri": "https://localhost:8080/"
        },
        "id": "YzDSaAOAMS7k",
        "outputId": "c3d276f9-a0ea-41d6-8a6f-4582a4ff3afa"
      },
      "execution_count": null,
      "outputs": [
        {
          "output_type": "stream",
          "name": "stdout",
          "text": [
            "Minimum value in high_usage_days: 14.218\n"
          ]
        }
      ]
    },
    {
      "cell_type": "markdown",
      "source": [
        "##Plot the energy usage trend for the first week of January 2007."
      ],
      "metadata": {
        "id": "Ro5AJLaCPJkN"
      }
    },
    {
      "cell_type": "code",
      "source": [
        "'''\n",
        "Prompt to the LLM: Write pandas code to plot the `Global_active_power` usage trend for the first week of January 2007.\n",
        "\n",
        "Details:\n",
        "- The dataframe is named `df` and is already indexed by datetime (`datetime` is the index).\n",
        "- Filter the dataframe for rows where the date is between January 1, 2007 and January 7, 2007 (inclusive), and store this filtered dataframe in a variable called `first_week_jan`.\n",
        "- Create a line plot of `Global_active_power` over time using the `first_week_jan` dataframe.\n",
        "- Use matplotlib to create the plot and import matplotlib.pyplot as plt\n",
        "- Set the figure size to 12x6, the line color to red, add a descriptive title, and label both axes.\n",
        "- Show the plot.\n",
        "\n",
        "Return only the full, correct code block — no explanations.\n",
        "'''\n",
        "import matplotlib.pyplot as plt\n",
        "first_week_jan = df[(df.index >= '2007-01-01') & (df.index <= '2007-01-07')]\n",
        "plt.figure(figsize=(12, 6))\n",
        "plt.plot(first_week_jan['Global_active_power'], color='red')\n",
        "plt.title('Global Active Power Usage: First Week of January 2007')\n",
        "plt.xlabel('Datetime')\n",
        "plt.ylabel('Global Active Power (kW)')\n",
        "plt.show()"
      ],
      "metadata": {
        "colab": {
          "base_uri": "https://localhost:8080/",
          "height": 564
        },
        "id": "2LXz-M02PMAp",
        "outputId": "84bcc548-5c4b-4c21-c38a-26423bc8e63c"
      },
      "execution_count": 8,
      "outputs": [
        {
          "output_type": "display_data",
          "data": {
            "text/plain": [
              "<Figure size 1200x600 with 1 Axes>"
            ],
            "image/png": "[encoded data removed]"
          },
          "metadata": {}
        }
      ]
    },
    {
      "cell_type": "code",
      "source": [
        "#to check:  Verified that first_week_jan is from January 1–7, 2007, and is non-empty dataset\n",
        "print(first_week_jan.index.min(), first_week_jan.index.max())"
      ],
      "metadata": {
        "colab": {
          "base_uri": "https://localhost:8080/"
        },
        "id": "4iD6M5mHBYkU",
        "outputId": "31b55d66-3a17-4ff7-d153-0094774e2271"
      },
      "execution_count": 9,
      "outputs": [
        {
          "output_type": "stream",
          "name": "stdout",
          "text": [
            "2007-01-01 00:00:00 2007-01-07 00:00:00\n"
          ]
        }
      ]
    },
    {
      "cell_type": "code",
      "source": [
        "print(first_week_jan.shape)"
      ],
      "metadata": {
        "colab": {
          "base_uri": "https://localhost:8080/"
        },
        "id": "NE_HFU7CKG1x",
        "outputId": "adfa9c61-b13f-47a4-d058-c87aad3e043c"
      },
      "execution_count": 11,
      "outputs": [
        {
          "output_type": "stream",
          "name": "stdout",
          "text": [
            "(8641, 7)\n"
          ]
        }
      ]
    },
    {
      "cell_type": "markdown",
      "source": [
        "##Find the average voltage for each day of the first week of February 2007."
      ],
      "metadata": {
        "id": "8qc0RvVwKvBV"
      }
    },
    {
      "cell_type": "code",
      "source": [
        "'''\n",
        "Prompt given to the LLM: Write pandas code to find the average `Voltage` for each day of the first week of February 2007.\n",
        "\n",
        "Details:\n",
        "- The dataframe is named `df` and is already indexed by datetime (`datetime` is the index).\n",
        "- Filter the dataframe for rows where the date is between February 1, 2007 and February 7, 2007 (inclusive), and store this filtered dataframe in a variable named `first_week_feb`.\n",
        "- Resample `first_week_feb` by day (`'D'`) and calculate the daily mean of `Voltage`.\n",
        "- Store the result in a variable named `daily_voltage_avg`.\n",
        "- Print `daily_voltage_avg`.\n",
        "\n",
        "Return only the full, correct code block — no explanations.\n",
        "'''\n",
        "first_week_feb = df[(df.index >= '2007-02-01') & (df.index <= '2007-02-07')]\n",
        "daily_voltage_avg = first_week_feb['Voltage'].resample('D').mean()\n",
        "print(daily_voltage_avg)"
      ],
      "metadata": {
        "colab": {
          "base_uri": "https://localhost:8080/"
        },
        "id": "AyleYQmPKxjk",
        "outputId": "d0231f19-8331-4a84-bcf0-2ed819c84c74"
      },
      "execution_count": 12,
      "outputs": [
        {
          "output_type": "stream",
          "name": "stdout",
          "text": [
            "datetime\n",
            "2007-02-01    240.392139\n",
            "2007-02-02    240.334389\n",
            "2007-02-03    238.910194\n",
            "2007-02-04    239.633333\n",
            "2007-02-05    240.810312\n",
            "2007-02-06    241.264160\n",
            "2007-02-07    243.530000\n",
            "Freq: D, Name: Voltage, dtype: float64\n"
          ]
        }
      ]
    },
    {
      "cell_type": "code",
      "source": [
        "#to check: correctly added the dates in the first_week_feb; the daily_voltage_avg is consistent with the values being 240 V~\n",
        "print(first_week_feb.index.min(), first_week_feb.index.max())\n",
        "print(daily_voltage_avg.describe())"
      ],
      "metadata": {
        "colab": {
          "base_uri": "https://localhost:8080/"
        },
        "id": "Y6f2DSrOLc-8",
        "outputId": "5a96c621-bd29-4c19-d512-e23a55d328c2"
      },
      "execution_count": 14,
      "outputs": [
        {
          "output_type": "stream",
          "name": "stdout",
          "text": [
            "2007-02-01 00:00:00 2007-02-07 00:00:00\n",
            "count      7.000000\n",
            "mean     240.696361\n",
            "std        1.466793\n",
            "min      238.910194\n",
            "25%      239.983861\n",
            "50%      240.392139\n",
            "75%      241.037236\n",
            "max      243.530000\n",
            "Name: Voltage, dtype: float64\n"
          ]
        }
      ]
    },
    {
      "cell_type": "markdown",
      "source": [
        "##What is the correlation between global active power and sub-metering values?"
      ],
      "metadata": {
        "id": "sZfjmTwUMjbj"
      }
    },
    {
      "cell_type": "code",
      "source": [
        "'''\n",
        "Prompt to the LLM: Write pandas code to calculate and display the correlation matrix between `Global_active_power` and the three sub-metering columns: `Sub_metering_1`, `Sub_metering_2`, and `Sub_metering_3`.\n",
        "\n",
        "Details:\n",
        "- The dataframe is named `df` and is already indexed by datetime (`datetime` is the index).\n",
        "- Create a list of columns: `['Global_active_power', 'Sub_metering_1', 'Sub_metering_2', 'Sub_metering_3']`.\n",
        "- Select these columns from `df` and store them in a variable named `selected_cols`.\n",
        "- Use pandas `.corr()` method to compute the correlation matrix and store it in a variable named `correlation_matrix`.\n",
        "- Print `correlation_matrix`.\n",
        "\n",
        "Return only the full, correct code block — no explanations.\n",
        "'''\n",
        "selected_cols = ['Global_active_power', 'Sub_metering_1', 'Sub_metering_2', 'Sub_metering_3']\n",
        "correlation_matrix = df[selected_cols].corr()\n",
        "print(correlation_matrix)"
      ],
      "metadata": {
        "colab": {
          "base_uri": "https://localhost:8080/"
        },
        "id": "J7U2DHFmMl4F",
        "outputId": "6c90e6d6-3748-4a25-bef8-ccc39ebe478f"
      },
      "execution_count": 16,
      "outputs": [
        {
          "output_type": "stream",
          "name": "stdout",
          "text": [
            "                     Global_active_power  Sub_metering_1  Sub_metering_2  \\\n",
            "Global_active_power             1.000000        0.484401        0.434569   \n",
            "Sub_metering_1                  0.484401        1.000000        0.054721   \n",
            "Sub_metering_2                  0.434569        0.054721        1.000000   \n",
            "Sub_metering_3                  0.638555        0.102571        0.080872   \n",
            "\n",
            "                     Sub_metering_3  \n",
            "Global_active_power        0.638555  \n",
            "Sub_metering_1             0.102571  \n",
            "Sub_metering_2             0.080872  \n",
            "Sub_metering_3             1.000000  \n"
          ]
        }
      ]
    },
    {
      "cell_type": "code",
      "source": [
        "#to check: no NaNs and the values should be between -1 to 1 as we know for the case of correlation matrix\n",
        "print(df[selected_cols].isna().sum())\n"
      ],
      "metadata": {
        "colab": {
          "base_uri": "https://localhost:8080/"
        },
        "id": "EmC9oAz0NTx3",
        "outputId": "1bd11a08-d74e-4bff-c132-e6b9b46a0fad"
      },
      "execution_count": 20,
      "outputs": [
        {
          "output_type": "stream",
          "name": "stdout",
          "text": [
            "Global_active_power    0\n",
            "Sub_metering_1         0\n",
            "Sub_metering_2         0\n",
            "Sub_metering_3         0\n",
            "dtype: int64\n"
          ]
        }
      ]
    },
    {
      "cell_type": "code",
      "source": [
        "print(correlation_matrix.min().min(), correlation_matrix.max().max())"
      ],
      "metadata": {
        "colab": {
          "base_uri": "https://localhost:8080/"
        },
        "id": "M6g9h7UvNqkW",
        "outputId": "8917a666-5275-45f3-d6ea-08f6358e2626"
      },
      "execution_count": 21,
      "outputs": [
        {
          "output_type": "stream",
          "name": "stdout",
          "text": [
            "0.05472086432348112 1.0\n"
          ]
        }
      ]
    }
  ]
}